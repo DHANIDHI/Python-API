{
 "cells": [
  {
   "cell_type": "markdown",
   "metadata": {},
   "source": [
    "# WeatherPy\n",
    "----\n",
    "\n",
    "#### Note\n",
    "* Instructions have been included for each segment. You do not have to follow them exactly, but they are included to help you think through the steps."
   ]
  },
  {
   "cell_type": "code",
   "execution_count": 2,
   "metadata": {
    "scrolled": true
   },
   "outputs": [],
   "source": [
    "# Dependencies and Setup\n",
    "import matplotlib.pyplot as plt\n",
    "import pandas as pd\n",
    "import numpy as np\n",
    "import requests\n",
    "import time\n",
    "from scipy.stats import linregress\n",
    "\n",
    "# Import API key\n",
    "from api_keys import weather_api_key\n",
    "\n",
    "# Incorporated citipy to determine city based on latitude and longitude\n",
    "from citipy import citipy\n",
    "\n",
    "# Output File (CSV)\n",
    "output_data_file = \"output_data/cities.csv\"\n",
    "\n",
    "# Range of latitudes and longitudes\n",
    "lat_range = (-90, 90)\n",
    "lng_range = (-180, 180)"
   ]
  },
  {
   "cell_type": "markdown",
   "metadata": {},
   "source": [
    "## Generate Cities List"
   ]
  },
  {
   "cell_type": "code",
   "execution_count": 3,
   "metadata": {},
   "outputs": [
    {
     "data": {
      "text/plain": [
       "629"
      ]
     },
     "execution_count": 3,
     "metadata": {},
     "output_type": "execute_result"
    }
   ],
   "source": [
    "# List for holding lat_lngs and cities\n",
    "lat_lngs = []\n",
    "cities = []\n",
    "\n",
    "# Create a set of random lat and lng combinations\n",
    "lats = np.random.uniform(low=-90.000, high=90.000, size=1500)\n",
    "lngs = np.random.uniform(low=-180.000, high=180.000, size=1500)\n",
    "lat_lngs = zip(lats, lngs)\n",
    "\n",
    "# Identify nearest city for each lat, lng combination\n",
    "for lat_lng in lat_lngs:\n",
    "    city = citipy.nearest_city(lat_lng[0], lat_lng[1]).city_name\n",
    "    \n",
    "    # If the city is unique, then add it to a our cities list\n",
    "    if city not in cities:\n",
    "        cities.append(city)\n",
    "\n",
    "# Print the city count to confirm sufficient count\n",
    "len(cities)"
   ]
  },
  {
   "cell_type": "markdown",
   "metadata": {},
   "source": [
    "### Perform API Calls\n",
    "* Perform a weather check on each city using a series of successive API calls.\n",
    "* Include a print log of each city as it'sbeing processed (with the city number and city name).\n"
   ]
  },
  {
   "cell_type": "code",
   "execution_count": 4,
   "metadata": {},
   "outputs": [
    {
     "name": "stdout",
     "output_type": "stream",
     "text": [
      "{'coord': {'lon': -73.99, 'lat': 40.73}, 'weather': [{'id': 500, 'main': 'Rain', 'description': 'light rain', 'icon': '10n'}, {'id': 701, 'main': 'Mist', 'description': 'mist', 'icon': '50n'}, {'id': 301, 'main': 'Drizzle', 'description': 'drizzle', 'icon': '09n'}], 'base': 'stations', 'main': {'temp': 16.37, 'pressure': 1021, 'humidity': 87, 'temp_min': 15, 'temp_max': 18}, 'visibility': 4828, 'wind': {'speed': 3.1, 'deg': 40}, 'rain': {'1h': 0.47}, 'clouds': {'all': 90}, 'dt': 1570501402, 'sys': {'type': 1, 'id': 6015, 'message': 0.0128, 'country': 'US', 'sunrise': 1570445892, 'sunset': 1570487353}, 'timezone': -14400, 'id': 5128581, 'name': 'New York', 'cod': 200}\n",
      "counter 1 || lagoa\n",
      "counter 2 || hithadhoo\n",
      "counter 3 || ken caryl\n",
      "counter 4 || ushuaia\n",
      "counter 5 || arman\n",
      "counter 6 || cape town\n",
      "counter 7 || klaksvik\n",
      "counter 8 || punta arenas\n",
      "counter 9 || yamada\n",
      "counter 10 || fairbanks\n",
      "counter 11 || santander\n",
      "counter 12 || east london\n",
      "counter 13 || yakymivka\n",
      "counter 14 || rikitea\n",
      "counter 15 || san jose\n",
      "counter 16 || vila franca do campo\n",
      "counter 17 || saint-philippe\n",
      "counter 18 || yar-sale\n",
      "counter 19 || apozol\n",
      "counter 20 || tura\n",
      "counter 21 || rapid valley\n",
      "counter 22 || khatanga\n",
      "counter 23 || port elizabeth\n",
      "counter 24 || qena\n",
      "counter 25 || castro\n",
      "counter 26 || kapaa\n",
      "counter 27 || norman wells\n",
      "counter 28 || jamestown\n",
      "counter 29 || mahebourg\n",
      "counter 30 || kawalu\n",
      "counter 31 || matara\n",
      "counter 32 || narsaq\n",
      "counter 33 || nizwa\n",
      "counter 34 || san vicente\n",
      "counter 35 || kruisfontein\n",
      "counter 36 || bluff\n",
      "counter 37 || albany\n",
      "counter 38 || cherskiy\n",
      "counter 39 || butaritari\n",
      "counter 40 || santa catarina de tepehuanes\n",
      "counter 41 || batemans bay\n",
      "counter 42 || hobart\n",
      "counter 43 || gamba\n",
      "counter 44 || irbeyskoye\n",
      "counter 45 || yellowknife\n",
      "counter 46 || wladyslawowo\n",
      "counter 47 || puerto ayora\n",
      "counter 48 || jiazi\n",
      "counter 49 || busselton\n",
      "counter 50 || chiredzi\n"
     ]
    }
   ],
   "source": [
    "\n",
    "url = \"http://api.openweathermap.org/data/2.5/weather?\"\n",
    "units = \"metric\"\n",
    "# Build partial query URL\n",
    "query_url = f\"{url}appid={weather_api_key}&units={units}&q=\"\n",
    "response=requests.get(query_url+\"new york\")\n",
    "json=response.json()\n",
    "print(json)\n",
    "data=[]\n",
    "i=0\n",
    "for city in cities[:50]:\n",
    "#    print(city)\n",
    "   json = requests.get(query_url + city).json()\n",
    "   i=i+1\n",
    "   try:\n",
    "       tempmax=json[\"main\"]['temp_max']\n",
    "       humidity=json[\"main\"][\"humidity\"]\n",
    "       speed=json['wind'][\"speed\"]\n",
    "       cloudiness=json[\"clouds\"][\"all\"]\n",
    "       lat=json[\"coord\"][\"lat\"]\n",
    "       country=json['sys'][\"country\"]\n",
    "       date=json['dt']\n",
    "       lon=json[\"coord\"][\"lon\"]\n",
    "       data.append([city,cloudiness,country,date,humidity,lat,lon,tempmax,speed])\n",
    "#        data.append([city,temp,temp1,temp2,temp3,temp6,temp4,temp5,temp7])\n",
    "       print(f\"counter {i} || {city}\")\n",
    "       time.sleep(.1)\n",
    "   except:\n",
    "       print(\"city not found\")"
   ]
  },
  {
   "cell_type": "markdown",
   "metadata": {},
   "source": [
    "### Convert Raw Data to DataFrame\n",
    "* Export the city data into a .csv.\n",
    "* Display the DataFrame"
   ]
  },
  {
   "cell_type": "code",
   "execution_count": 5,
   "metadata": {},
   "outputs": [
    {
     "data": {
      "text/html": [
       "<div>\n",
       "<style scoped>\n",
       "    .dataframe tbody tr th:only-of-type {\n",
       "        vertical-align: middle;\n",
       "    }\n",
       "\n",
       "    .dataframe tbody tr th {\n",
       "        vertical-align: top;\n",
       "    }\n",
       "\n",
       "    .dataframe thead th {\n",
       "        text-align: right;\n",
       "    }\n",
       "</style>\n",
       "<table border=\"1\" class=\"dataframe\">\n",
       "  <thead>\n",
       "    <tr style=\"text-align: right;\">\n",
       "      <th></th>\n",
       "      <th>City</th>\n",
       "      <th>Cloudiness</th>\n",
       "      <th>Country</th>\n",
       "      <th>Date</th>\n",
       "      <th>Humidity</th>\n",
       "      <th>Lat</th>\n",
       "      <th>Lng</th>\n",
       "      <th>Max Temp</th>\n",
       "      <th>Wind Speed</th>\n",
       "    </tr>\n",
       "  </thead>\n",
       "  <tbody>\n",
       "    <tr>\n",
       "      <th>0</th>\n",
       "      <td>lagoa</td>\n",
       "      <td>0</td>\n",
       "      <td>PT</td>\n",
       "      <td>1570501699</td>\n",
       "      <td>72</td>\n",
       "      <td>37.14</td>\n",
       "      <td>-8.45</td>\n",
       "      <td>22.78</td>\n",
       "      <td>1.00</td>\n",
       "    </tr>\n",
       "    <tr>\n",
       "      <th>1</th>\n",
       "      <td>hithadhoo</td>\n",
       "      <td>100</td>\n",
       "      <td>MV</td>\n",
       "      <td>1570501699</td>\n",
       "      <td>75</td>\n",
       "      <td>-0.60</td>\n",
       "      <td>73.08</td>\n",
       "      <td>27.63</td>\n",
       "      <td>7.03</td>\n",
       "    </tr>\n",
       "    <tr>\n",
       "      <th>2</th>\n",
       "      <td>ken caryl</td>\n",
       "      <td>1</td>\n",
       "      <td>US</td>\n",
       "      <td>1570501699</td>\n",
       "      <td>19</td>\n",
       "      <td>39.58</td>\n",
       "      <td>-105.11</td>\n",
       "      <td>17.00</td>\n",
       "      <td>5.70</td>\n",
       "    </tr>\n",
       "    <tr>\n",
       "      <th>3</th>\n",
       "      <td>ushuaia</td>\n",
       "      <td>90</td>\n",
       "      <td>AR</td>\n",
       "      <td>1570501510</td>\n",
       "      <td>96</td>\n",
       "      <td>-54.81</td>\n",
       "      <td>-68.31</td>\n",
       "      <td>0.00</td>\n",
       "      <td>6.70</td>\n",
       "    </tr>\n",
       "    <tr>\n",
       "      <th>4</th>\n",
       "      <td>arman</td>\n",
       "      <td>0</td>\n",
       "      <td>RU</td>\n",
       "      <td>1570501700</td>\n",
       "      <td>62</td>\n",
       "      <td>59.70</td>\n",
       "      <td>150.17</td>\n",
       "      <td>-3.16</td>\n",
       "      <td>1.63</td>\n",
       "    </tr>\n",
       "  </tbody>\n",
       "</table>\n",
       "</div>"
      ],
      "text/plain": [
       "        City  Cloudiness Country        Date  Humidity    Lat     Lng  \\\n",
       "0      lagoa           0      PT  1570501699        72  37.14   -8.45   \n",
       "1  hithadhoo         100      MV  1570501699        75  -0.60   73.08   \n",
       "2  ken caryl           1      US  1570501699        19  39.58 -105.11   \n",
       "3    ushuaia          90      AR  1570501510        96 -54.81  -68.31   \n",
       "4      arman           0      RU  1570501700        62  59.70  150.17   \n",
       "\n",
       "   Max Temp  Wind Speed  \n",
       "0     22.78        1.00  \n",
       "1     27.63        7.03  \n",
       "2     17.00        5.70  \n",
       "3      0.00        6.70  \n",
       "4     -3.16        1.63  "
      ]
     },
     "execution_count": 5,
     "metadata": {},
     "output_type": "execute_result"
    }
   ],
   "source": [
    "data_df=pd.DataFrame(data,columns=[\"City\",\"Cloudiness\",\"Country\", \"Date\",\"Humidity\",\"Lat\",\"Lng\",\"Max Temp\",\"Wind Speed\"])\n",
    "data_df.head()"
   ]
  },
  {
   "cell_type": "code",
   "execution_count": 7,
   "metadata": {},
   "outputs": [
    {
     "data": {
      "text/plain": [
       "City          50\n",
       "Cloudiness    50\n",
       "Country       50\n",
       "Date          50\n",
       "Humidity      50\n",
       "Lat           50\n",
       "Lng           50\n",
       "Max Temp      50\n",
       "Wind Speed    50\n",
       "dtype: int64"
      ]
     },
     "execution_count": 7,
     "metadata": {},
     "output_type": "execute_result"
    }
   ],
   "source": [
    " data_df.count()"
   ]
  },
  {
   "cell_type": "markdown",
   "metadata": {},
   "source": [
    "### Plotting the Data\n",
    "* Use proper labeling of the plots using plot titles (including date of analysis) and axes labels.\n",
    "* Save the plotted figures as .pngs."
   ]
  },
  {
   "cell_type": "markdown",
   "metadata": {},
   "source": [
    "#### Latitude vs. Temperature Plot"
   ]
  },
  {
   "cell_type": "code",
   "execution_count": 8,
   "metadata": {
    "scrolled": true
   },
   "outputs": [
    {
     "data": {
      "text/plain": [
       "Text(0.5, 0, 'Latitude')"
      ]
     },
     "execution_count": 8,
     "metadata": {},
     "output_type": "execute_result"
    },
    {
     "data": {
      "image/png": "[encoded data removed]",
      "text/plain": [
       "<Figure size 432x288 with 1 Axes>"
      ]
     },
     "metadata": {
      "needs_background": "light"
     },
     "output_type": "display_data"
    }
   ],
   "source": [
    "plt.scatter(data_df[\"Lat\"],data_df[\"Max Temp\"],c=\"lightblue\",edgecolor='black')\n",
    "plt.title(f\"City Latitude vs Max Temperature ({date})\")\n",
    "plt.ylabel(\"Max Temprature (F)\")\n",
    "plt.xlabel(\"Latitude\")\n"
   ]
  },
  {
   "cell_type": "markdown",
   "metadata": {},
   "source": [
    "#### Latitude vs. Humidity Plot"
   ]
  },
  {
   "cell_type": "code",
   "execution_count": 9,
   "metadata": {},
   "outputs": [
    {
     "data": {
      "text/plain": [
       "Text(0, 0.5, 'Humidity %')"
      ]
     },
     "execution_count": 9,
     "metadata": {},
     "output_type": "execute_result"
    },
    {
     "data": {
      "image/png": "[encoded data removed]",
      "text/plain": [
       "<Figure size 432x288 with 1 Axes>"
      ]
     },
     "metadata": {
      "needs_background": "light"
     },
     "output_type": "display_data"
    }
   ],
   "source": [
    "plt.scatter(data_df[\"Lat\"],data_df[\"Humidity\"],c=\"lightblue\",edgecolor='black')\n",
    "plt.title(f\"City Latitude vs Humidity ({date})\")\n",
    "plt.xlabel(\"Latitude\")\n",
    "plt.ylabel(\"Humidity %\")"
   ]
  },
  {
   "cell_type": "markdown",
   "metadata": {},
   "source": [
    "#### Latitude vs. Cloudiness Plot"
   ]
  },
  {
   "cell_type": "code",
   "execution_count": 10,
   "metadata": {
    "scrolled": true
   },
   "outputs": [
    {
     "data": {
      "text/plain": [
       "Text(0, 0.5, 'Cloudiness %')"
      ]
     },
     "execution_count": 10,
     "metadata": {},
     "output_type": "execute_result"
    },
    {
     "data": {
      "image/png": "[encoded data removed]",
      "text/plain": [
       "<Figure size 432x288 with 1 Axes>"
      ]
     },
     "metadata": {
      "needs_background": "light"
     },
     "output_type": "display_data"
    }
   ],
   "source": [
    "plt.scatter(data_df[\"Lat\"],data_df[\"Cloudiness\"],c=\"lightblue\",edgecolor='black')\n",
    "plt.title(f\"City Latitude vs Cloudiness({date})\")\n",
    "plt.xlabel(\"Latitude\")\n",
    "plt.ylabel(\"Cloudiness %\")"
   ]
  },
  {
   "cell_type": "markdown",
   "metadata": {},
   "source": [
    "#### Latitude vs. Wind Speed Plot"
   ]
  },
  {
   "cell_type": "code",
   "execution_count": 11,
   "metadata": {},
   "outputs": [
    {
     "data": {
      "text/plain": [
       "Text(0, 0.5, 'Wind Speed(mph)')"
      ]
     },
     "execution_count": 11,
     "metadata": {},
     "output_type": "execute_result"
    },
    {
     "data": {
      "image/png": "[encoded data removed]",
      "text/plain": [
       "<Figure size 432x288 with 1 Axes>"
      ]
     },
     "metadata": {
      "needs_background": "light"
     },
     "output_type": "display_data"
    }
   ],
   "source": [
    "plt.scatter(data_df[\"Lat\"],data_df[\"Wind Speed\"],c=\"lightblue\",edgecolor='black')\n",
    "plt.title(f\"City Latitude vs Wind Speed ({date})\")\n",
    "plt.xlabel(\"Latitude\")\n",
    "plt.ylabel(\"Wind Speed(mph)\")"
   ]
  },
  {
   "cell_type": "markdown",
   "metadata": {},
   "source": [
    "## Linear Regression"
   ]
  },
  {
   "cell_type": "code",
   "execution_count": 12,
   "metadata": {},
   "outputs": [],
   "source": [
    "# OPTIONAL: \n",
    "# Create a function to create perform linear regression on the weather data\n",
    "# and plot a regression line and the equation with the data.\n",
    "def plot_linear_regression(x_values, y_values, title, y_label, text_coordinates):\n",
    "   # Run regresson on hemisphere weather data.\n",
    "   (slope, intercept, rvalue, pvalue, stderr) = linregress(x_values, y_values)\n",
    "   # Calculate the regression line \"y values\" from the slope and intercept.\n",
    "   regress_values = x_values * slope + intercept\n",
    "   # Get the equation of the line.\n",
    "   line_eq = \"y = \" + str(round(slope,2)) + \"x + \" + str(round(intercept,2))\n",
    "   # Create a scatter plot and plot the regression line.\n",
    "   plt.scatter(x_values,y_values)\n",
    "   plt.plot(x_values,regress_values,\"r\")\n",
    "   # Annotate the text for the line equation.\n",
    "   plt.annotate(line_eq, text_coordinates, fontsize=15, color=\"red\")\n",
    "   plt.title(title)\n",
    "   plt.xlabel('Latitude')\n",
    "   plt.ylabel(y_label)\n",
    "   print(f\"The r-squared is: {rvalue:.3f}\")\n",
    "   plt.show()\n"
   ]
  },
  {
   "cell_type": "code",
   "execution_count": 13,
   "metadata": {},
   "outputs": [
    {
     "data": {
      "text/html": [
       "<div>\n",
       "<style scoped>\n",
       "    .dataframe tbody tr th:only-of-type {\n",
       "        vertical-align: middle;\n",
       "    }\n",
       "\n",
       "    .dataframe tbody tr th {\n",
       "        vertical-align: top;\n",
       "    }\n",
       "\n",
       "    .dataframe thead th {\n",
       "        text-align: right;\n",
       "    }\n",
       "</style>\n",
       "<table border=\"1\" class=\"dataframe\">\n",
       "  <thead>\n",
       "    <tr style=\"text-align: right;\">\n",
       "      <th></th>\n",
       "      <th>City</th>\n",
       "      <th>Cloudiness</th>\n",
       "      <th>Country</th>\n",
       "      <th>Date</th>\n",
       "      <th>Humidity</th>\n",
       "      <th>Lat</th>\n",
       "      <th>Lng</th>\n",
       "      <th>Max Temp</th>\n",
       "      <th>Wind Speed</th>\n",
       "    </tr>\n",
       "  </thead>\n",
       "  <tbody>\n",
       "    <tr>\n",
       "      <th>1</th>\n",
       "      <td>hithadhoo</td>\n",
       "      <td>100</td>\n",
       "      <td>MV</td>\n",
       "      <td>1570501699</td>\n",
       "      <td>75</td>\n",
       "      <td>-0.60</td>\n",
       "      <td>73.08</td>\n",
       "      <td>27.63</td>\n",
       "      <td>7.030</td>\n",
       "    </tr>\n",
       "    <tr>\n",
       "      <th>3</th>\n",
       "      <td>ushuaia</td>\n",
       "      <td>90</td>\n",
       "      <td>AR</td>\n",
       "      <td>1570501510</td>\n",
       "      <td>96</td>\n",
       "      <td>-54.81</td>\n",
       "      <td>-68.31</td>\n",
       "      <td>0.00</td>\n",
       "      <td>6.700</td>\n",
       "    </tr>\n",
       "    <tr>\n",
       "      <th>5</th>\n",
       "      <td>cape town</td>\n",
       "      <td>0</td>\n",
       "      <td>ZA</td>\n",
       "      <td>1570501700</td>\n",
       "      <td>82</td>\n",
       "      <td>-33.93</td>\n",
       "      <td>18.42</td>\n",
       "      <td>14.44</td>\n",
       "      <td>3.100</td>\n",
       "    </tr>\n",
       "    <tr>\n",
       "      <th>7</th>\n",
       "      <td>punta arenas</td>\n",
       "      <td>44</td>\n",
       "      <td>CL</td>\n",
       "      <td>1570501700</td>\n",
       "      <td>69</td>\n",
       "      <td>-53.16</td>\n",
       "      <td>-70.91</td>\n",
       "      <td>2.00</td>\n",
       "      <td>4.100</td>\n",
       "    </tr>\n",
       "    <tr>\n",
       "      <th>11</th>\n",
       "      <td>east london</td>\n",
       "      <td>21</td>\n",
       "      <td>ZA</td>\n",
       "      <td>1570501702</td>\n",
       "      <td>72</td>\n",
       "      <td>-33.02</td>\n",
       "      <td>27.91</td>\n",
       "      <td>17.07</td>\n",
       "      <td>4.247</td>\n",
       "    </tr>\n",
       "    <tr>\n",
       "      <th>13</th>\n",
       "      <td>rikitea</td>\n",
       "      <td>100</td>\n",
       "      <td>PF</td>\n",
       "      <td>1570501702</td>\n",
       "      <td>89</td>\n",
       "      <td>-23.12</td>\n",
       "      <td>-134.97</td>\n",
       "      <td>19.98</td>\n",
       "      <td>4.610</td>\n",
       "    </tr>\n",
       "    <tr>\n",
       "      <th>24</th>\n",
       "      <td>castro</td>\n",
       "      <td>20</td>\n",
       "      <td>CL</td>\n",
       "      <td>1570501705</td>\n",
       "      <td>87</td>\n",
       "      <td>-42.48</td>\n",
       "      <td>-73.76</td>\n",
       "      <td>6.00</td>\n",
       "      <td>2.100</td>\n",
       "    </tr>\n",
       "    <tr>\n",
       "      <th>27</th>\n",
       "      <td>jamestown</td>\n",
       "      <td>25</td>\n",
       "      <td>AU</td>\n",
       "      <td>1570501692</td>\n",
       "      <td>34</td>\n",
       "      <td>-33.21</td>\n",
       "      <td>138.60</td>\n",
       "      <td>16.29</td>\n",
       "      <td>5.880</td>\n",
       "    </tr>\n",
       "    <tr>\n",
       "      <th>28</th>\n",
       "      <td>mahebourg</td>\n",
       "      <td>75</td>\n",
       "      <td>MU</td>\n",
       "      <td>1570501706</td>\n",
       "      <td>88</td>\n",
       "      <td>-20.41</td>\n",
       "      <td>57.70</td>\n",
       "      <td>21.00</td>\n",
       "      <td>2.100</td>\n",
       "    </tr>\n",
       "    <tr>\n",
       "      <th>29</th>\n",
       "      <td>kawalu</td>\n",
       "      <td>77</td>\n",
       "      <td>ID</td>\n",
       "      <td>1570501706</td>\n",
       "      <td>56</td>\n",
       "      <td>-7.38</td>\n",
       "      <td>108.21</td>\n",
       "      <td>27.05</td>\n",
       "      <td>2.651</td>\n",
       "    </tr>\n",
       "    <tr>\n",
       "      <th>30</th>\n",
       "      <td>matara</td>\n",
       "      <td>100</td>\n",
       "      <td>BI</td>\n",
       "      <td>1570501706</td>\n",
       "      <td>76</td>\n",
       "      <td>-3.48</td>\n",
       "      <td>29.48</td>\n",
       "      <td>10.49</td>\n",
       "      <td>0.780</td>\n",
       "    </tr>\n",
       "    <tr>\n",
       "      <th>33</th>\n",
       "      <td>san vicente</td>\n",
       "      <td>75</td>\n",
       "      <td>EC</td>\n",
       "      <td>1570501707</td>\n",
       "      <td>94</td>\n",
       "      <td>-0.59</td>\n",
       "      <td>-80.41</td>\n",
       "      <td>21.00</td>\n",
       "      <td>4.100</td>\n",
       "    </tr>\n",
       "    <tr>\n",
       "      <th>34</th>\n",
       "      <td>kruisfontein</td>\n",
       "      <td>76</td>\n",
       "      <td>ZA</td>\n",
       "      <td>1570501541</td>\n",
       "      <td>85</td>\n",
       "      <td>-34.00</td>\n",
       "      <td>24.73</td>\n",
       "      <td>11.99</td>\n",
       "      <td>2.640</td>\n",
       "    </tr>\n",
       "    <tr>\n",
       "      <th>35</th>\n",
       "      <td>bluff</td>\n",
       "      <td>0</td>\n",
       "      <td>AU</td>\n",
       "      <td>1570501707</td>\n",
       "      <td>12</td>\n",
       "      <td>-23.58</td>\n",
       "      <td>149.07</td>\n",
       "      <td>37.67</td>\n",
       "      <td>3.600</td>\n",
       "    </tr>\n",
       "    <tr>\n",
       "      <th>40</th>\n",
       "      <td>batemans bay</td>\n",
       "      <td>99</td>\n",
       "      <td>AU</td>\n",
       "      <td>1570501709</td>\n",
       "      <td>100</td>\n",
       "      <td>-35.71</td>\n",
       "      <td>150.18</td>\n",
       "      <td>13.89</td>\n",
       "      <td>1.570</td>\n",
       "    </tr>\n",
       "    <tr>\n",
       "      <th>41</th>\n",
       "      <td>hobart</td>\n",
       "      <td>40</td>\n",
       "      <td>AU</td>\n",
       "      <td>1570501595</td>\n",
       "      <td>43</td>\n",
       "      <td>-42.88</td>\n",
       "      <td>147.33</td>\n",
       "      <td>12.22</td>\n",
       "      <td>7.700</td>\n",
       "    </tr>\n",
       "    <tr>\n",
       "      <th>46</th>\n",
       "      <td>puerto ayora</td>\n",
       "      <td>18</td>\n",
       "      <td>EC</td>\n",
       "      <td>1570501710</td>\n",
       "      <td>90</td>\n",
       "      <td>-0.74</td>\n",
       "      <td>-90.35</td>\n",
       "      <td>18.89</td>\n",
       "      <td>1.340</td>\n",
       "    </tr>\n",
       "    <tr>\n",
       "      <th>48</th>\n",
       "      <td>busselton</td>\n",
       "      <td>100</td>\n",
       "      <td>AU</td>\n",
       "      <td>1570501517</td>\n",
       "      <td>36</td>\n",
       "      <td>-33.64</td>\n",
       "      <td>115.35</td>\n",
       "      <td>22.22</td>\n",
       "      <td>4.170</td>\n",
       "    </tr>\n",
       "    <tr>\n",
       "      <th>49</th>\n",
       "      <td>chiredzi</td>\n",
       "      <td>0</td>\n",
       "      <td>ZW</td>\n",
       "      <td>1570501711</td>\n",
       "      <td>40</td>\n",
       "      <td>-21.05</td>\n",
       "      <td>31.67</td>\n",
       "      <td>20.69</td>\n",
       "      <td>0.730</td>\n",
       "    </tr>\n",
       "  </tbody>\n",
       "</table>\n",
       "</div>"
      ],
      "text/plain": [
       "            City  Cloudiness Country        Date  Humidity    Lat     Lng  \\\n",
       "1      hithadhoo         100      MV  1570501699        75  -0.60   73.08   \n",
       "3        ushuaia          90      AR  1570501510        96 -54.81  -68.31   \n",
       "5      cape town           0      ZA  1570501700        82 -33.93   18.42   \n",
       "7   punta arenas          44      CL  1570501700        69 -53.16  -70.91   \n",
       "11   east london          21      ZA  1570501702        72 -33.02   27.91   \n",
       "13       rikitea         100      PF  1570501702        89 -23.12 -134.97   \n",
       "24        castro          20      CL  1570501705        87 -42.48  -73.76   \n",
       "27     jamestown          25      AU  1570501692        34 -33.21  138.60   \n",
       "28     mahebourg          75      MU  1570501706        88 -20.41   57.70   \n",
       "29        kawalu          77      ID  1570501706        56  -7.38  108.21   \n",
       "30        matara         100      BI  1570501706        76  -3.48   29.48   \n",
       "33   san vicente          75      EC  1570501707        94  -0.59  -80.41   \n",
       "34  kruisfontein          76      ZA  1570501541        85 -34.00   24.73   \n",
       "35         bluff           0      AU  1570501707        12 -23.58  149.07   \n",
       "40  batemans bay          99      AU  1570501709       100 -35.71  150.18   \n",
       "41        hobart          40      AU  1570501595        43 -42.88  147.33   \n",
       "46  puerto ayora          18      EC  1570501710        90  -0.74  -90.35   \n",
       "48     busselton         100      AU  1570501517        36 -33.64  115.35   \n",
       "49      chiredzi           0      ZW  1570501711        40 -21.05   31.67   \n",
       "\n",
       "    Max Temp  Wind Speed  \n",
       "1      27.63       7.030  \n",
       "3       0.00       6.700  \n",
       "5      14.44       3.100  \n",
       "7       2.00       4.100  \n",
       "11     17.07       4.247  \n",
       "13     19.98       4.610  \n",
       "24      6.00       2.100  \n",
       "27     16.29       5.880  \n",
       "28     21.00       2.100  \n",
       "29     27.05       2.651  \n",
       "30     10.49       0.780  \n",
       "33     21.00       4.100  \n",
       "34     11.99       2.640  \n",
       "35     37.67       3.600  \n",
       "40     13.89       1.570  \n",
       "41     12.22       7.700  \n",
       "46     18.89       1.340  \n",
       "48     22.22       4.170  \n",
       "49     20.69       0.730  "
      ]
     },
     "execution_count": 13,
     "metadata": {},
     "output_type": "execute_result"
    }
   ],
   "source": [
    "# Create Northern and Southern Hemisphere DataFrames\n",
    "northern_hemi_df = data_df.loc[(data_df[\"Lat\"] >= 0)]\n",
    "southern_hemi_df = data_df.loc[(data_df[\"Lat\"] < 0)]\n",
    "northern_hemi_df\n",
    "southern_hemi_df"
   ]
  },
  {
   "cell_type": "markdown",
   "metadata": {},
   "source": [
    "####  Northern Hemisphere - Max Temp vs. Latitude Linear Regression"
   ]
  },
  {
   "cell_type": "code",
   "execution_count": 14,
   "metadata": {},
   "outputs": [
    {
     "name": "stdout",
     "output_type": "stream",
     "text": [
      "The r-squared is: -0.848\n"
     ]
    },
    {
     "data": {
      "image/png": "[encoded data removed]",
      "text/plain": [
       "<Figure size 432x288 with 1 Axes>"
      ]
     },
     "metadata": {
      "needs_background": "light"
     },
     "output_type": "display_data"
    }
   ],
   "source": [
    "x_values = northern_hemi_df[\"Lat\"]\n",
    "y_values = northern_hemi_df[\"Max Temp\"]\n",
    "x_values\n",
    "y_values\n",
    "\n",
    "plot_linear_regression(x_values, y_values,\n",
    "                      'Linear Regression on the Northern Hemisphere\\nfor Maximum Temperature', 'Max Temp',(10,40))"
   ]
  },
  {
   "cell_type": "markdown",
   "metadata": {},
   "source": [
    "####  Southern Hemisphere - Max Temp vs. Latitude Linear Regression"
   ]
  },
  {
   "cell_type": "code",
   "execution_count": 15,
   "metadata": {},
   "outputs": [
    {
     "name": "stdout",
     "output_type": "stream",
     "text": [
      "The r-squared is: 0.632\n"
     ]
    },
    {
     "data": {
      "image/png": "[encoded data removed]",
      "text/plain": [
       "<Figure size 432x288 with 1 Axes>"
      ]
     },
     "metadata": {
      "needs_background": "light"
     },
     "output_type": "display_data"
    }
   ],
   "source": [
    "x_values = southern_hemi_df[\"Lat\"]\n",
    "y_values = southern_hemi_df[\"Max Temp\"]\n",
    "x_values\n",
    "y_values\n",
    "\n",
    "plot_linear_regression(x_values, y_values,\n",
    "                      'Linear Regression on the Southern Hemisphere\\nfor Maximum Temperature', 'Max Temp',(10,40))"
   ]
  },
  {
   "cell_type": "markdown",
   "metadata": {},
   "source": [
    "####  Northern Hemisphere - Humidity (%) vs. Latitude Linear Regression"
   ]
  },
  {
   "cell_type": "code",
   "execution_count": 16,
   "metadata": {},
   "outputs": [
    {
     "name": "stdout",
     "output_type": "stream",
     "text": [
      "The r-squared is: 0.192\n"
     ]
    },
    {
     "data": {
      "image/png": "[encoded data removed]",
      "text/plain": [
       "<Figure size 432x288 with 1 Axes>"
      ]
     },
     "metadata": {
      "needs_background": "light"
     },
     "output_type": "display_data"
    }
   ],
   "source": [
    "x_values = northern_hemi_df[\"Lat\"]\n",
    "y_values = northern_hemi_df[\"Humidity\"]\n",
    "x_values\n",
    "y_values\n",
    "\n",
    "plot_linear_regression(x_values, y_values,\n",
    "                      'Linear Regression on the Northern Hemisphere\\nfor Humidity', 'Humidity',(10,40))"
   ]
  },
  {
   "cell_type": "markdown",
   "metadata": {},
   "source": [
    "####  Southern Hemisphere - Humidity (%) vs. Latitude Linear Regression"
   ]
  },
  {
   "cell_type": "code",
   "execution_count": 17,
   "metadata": {},
   "outputs": [
    {
     "name": "stdout",
     "output_type": "stream",
     "text": [
      "The r-squared is: 0.055\n"
     ]
    },
    {
     "data": {
      "image/png": "[encoded data removed]",
      "text/plain": [
       "<Figure size 432x288 with 1 Axes>"
      ]
     },
     "metadata": {
      "needs_background": "light"
     },
     "output_type": "display_data"
    }
   ],
   "source": [
    "x_values = southern_hemi_df[\"Lat\"]\n",
    "y_values = southern_hemi_df[\"Humidity\"]\n",
    "x_values\n",
    "y_values\n",
    "\n",
    "plot_linear_regression(x_values, y_values,\n",
    "                      'Linear Regression on the Southern Hemisphere\\nfor Humidity(%)', 'Humidity',(-50 , 90))"
   ]
  },
  {
   "cell_type": "markdown",
   "metadata": {},
   "source": [
    "####  Northern Hemisphere - Cloudiness (%) vs. Latitude Linear Regression"
   ]
  },
  {
   "cell_type": "code",
   "execution_count": 22,
   "metadata": {},
   "outputs": [
    {
     "name": "stdout",
     "output_type": "stream",
     "text": [
      "The r-squared is: 0.062\n"
     ]
    },
    {
     "data": {
      "image/png": "[encoded data removed]",
      "text/plain": [
       "<Figure size 432x288 with 1 Axes>"
      ]
     },
     "metadata": {
      "needs_background": "light"
     },
     "output_type": "display_data"
    }
   ],
   "source": [
    "x_values = northern_hemi_df[\"Lat\"]\n",
    "y_values = northern_hemi_df[\"Cloudiness\"]\n",
    "x_values\n",
    "y_values\n",
    "\n",
    "plot_linear_regression(x_values, y_values,\n",
    "                      'Linear Regression on the Northern Hemisphere\\nfor Cloudiness', 'Cloudiness',(15,60))"
   ]
  },
  {
   "cell_type": "markdown",
   "metadata": {},
   "source": [
    "####  Southern Hemisphere - Cloudiness (%) vs. Latitude Linear Regression"
   ]
  },
  {
   "cell_type": "code",
   "execution_count": 23,
   "metadata": {},
   "outputs": [
    {
     "name": "stdout",
     "output_type": "stream",
     "text": [
      "The r-squared is: 0.170\n"
     ]
    },
    {
     "data": {
      "image/png": "[encoded data removed]",
      "text/plain": [
       "<Figure size 432x288 with 1 Axes>"
      ]
     },
     "metadata": {
      "needs_background": "light"
     },
     "output_type": "display_data"
    }
   ],
   "source": [
    "x_values = southern_hemi_df[\"Lat\"]\n",
    "y_values = southern_hemi_df[\"Cloudiness\"]\n",
    "x_values\n",
    "y_values\n",
    "\n",
    "plot_linear_regression(x_values, y_values,\n",
    "                      'Linear Regression on the Southern Hemisphere\\nfor Cloudiness(%)', 'Cloudiness',(-50 , 65))"
   ]
  },
  {
   "cell_type": "markdown",
   "metadata": {},
   "source": [
    "####  Northern Hemisphere - Wind Speed (mph) vs. Latitude Linear Regression"
   ]
  },
  {
   "cell_type": "code",
   "execution_count": 28,
   "metadata": {},
   "outputs": [
    {
     "name": "stdout",
     "output_type": "stream",
     "text": [
      "The r-squared is: 0.208\n"
     ]
    },
    {
     "data": {
      "image/png": "[encoded data removed]",
      "text/plain": [
       "<Figure size 432x288 with 1 Axes>"
      ]
     },
     "metadata": {
      "needs_background": "light"
     },
     "output_type": "display_data"
    }
   ],
   "source": [
    "x_values = northern_hemi_df[\"Lat\"]\n",
    "y_values = northern_hemi_df[\"Wind Speed\"]\n",
    "x_values\n",
    "y_values\n",
    "\n",
    "plot_linear_regression(x_values, y_values,\n",
    "                      'Linear Regression on the Northern Hemisphere\\nfor Wind Speed', 'Wind Speed',(10 , 4.5))"
   ]
  },
  {
   "cell_type": "markdown",
   "metadata": {},
   "source": [
    "####  Southern Hemisphere - Wind Speed (mph) vs. Latitude Linear Regression"
   ]
  },
  {
   "cell_type": "code",
   "execution_count": 31,
   "metadata": {},
   "outputs": [
    {
     "name": "stdout",
     "output_type": "stream",
     "text": [
      "The r-squared is: -0.309\n"
     ]
    },
    {
     "data": {
      "image/png": "[encoded data removed]",
      "text/plain": [
       "<Figure size 432x288 with 1 Axes>"
      ]
     },
     "metadata": {
      "needs_background": "light"
     },
     "output_type": "display_data"
    }
   ],
   "source": [
    "x_values = southern_hemi_df[\"Lat\"]\n",
    "y_values = southern_hemi_df[\"Wind Speed\"]\n",
    "x_values\n",
    "y_values\n",
    "\n",
    "plot_linear_regression(x_values, y_values,\n",
    "                      'Linear Regression on the Southern Hemisphere\\nfor Wind Speed', 'Wind Speed',(-50 , 5))"
   ]
  },
  {
   "cell_type": "code",
   "execution_count": null,
   "metadata": {},
   "outputs": [],
   "source": []
  }
 ],
 "metadata": {
  "anaconda-cloud": {},
  "kernel_info": {
   "name": "python3"
  },
  "kernelspec": {
   "display_name": "Python 3",
   "language": "python",
   "name": "python3"
  },
  "language_info": {
   "codemirror_mode": {
    "name": "ipython",
    "version": 3
   },
   "file_extension": ".py",
   "mimetype": "text/x-python",
   "name": "python",
   "nbconvert_exporter": "python",
   "pygments_lexer": "ipython3",
   "version": "3.7.3"
  },
  "latex_envs": {
   "LaTeX_envs_menu_present": true,
   "autoclose": false,
   "autocomplete": true,
   "bibliofile": "biblio.bib",
   "cite_by": "apalike",
   "current_citInitial": 1,
   "eqLabelWithNumbers": true,
   "eqNumInitial": 1,
   "hotkeys": {
    "equation": "Ctrl-E",
    "itemize": "Ctrl-I"
   },
   "labels_anchors": false,
   "latex_user_defs": false,
   "report_style_numbering": false,
   "user_envs_cfg": false
  },
  "nteract": {
   "version": "0.12.3"
  }
 },
 "nbformat": 4,
 "nbformat_minor": 2
}
